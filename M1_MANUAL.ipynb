{
  "cells": [
    {
      "cell_type": "markdown",
      "metadata": {
        "id": "view-in-github",
        "colab_type": "text"
      },
      "source": [
        "<a href=\"https://colab.research.google.com/github/SurrajKumar2000/Lung-and-Colon-Cancer-prediction-using-CNN/blob/main/M1_MANUAL.ipynb\" target=\"_parent\"><img src=\"https://colab.research.google.com/assets/colab-badge.svg\" alt=\"Open In Colab\"/></a>"
      ]
    },
    {
      "cell_type": "markdown",
      "metadata": {
        "id": "QAyhZqE36Lcl"
      },
      "source": [
        "# MANUAL NET ARCHITECTURE"
      ]
    },
    {
      "cell_type": "code",
      "execution_count": null,
      "metadata": {
        "id": "igQlKItx6Lcn"
      },
      "outputs": [],
      "source": [
        "import warnings\n",
        "warnings.filterwarnings('ignore')"
      ]
    },
    {
      "cell_type": "code",
      "execution_count": null,
      "metadata": {
        "id": "dPpf1KUh6Lco"
      },
      "outputs": [],
      "source": [
        "import os\n",
        "import glob\n",
        "import numpy as np\n",
        "\n",
        "from tensorflow.keras.preprocessing.image import ImageDataGenerator\n",
        "\n",
        "from tensorflow.keras.models import Sequential\n",
        "from PIL import Image\n",
        "\n",
        "from tensorflow.keras.layers import Convolution2D\n",
        "from tensorflow.keras.layers import MaxPooling2D\n",
        "from tensorflow.keras.layers import Flatten\n",
        "from tensorflow.keras.layers import Dense\n",
        "from tensorflow.keras.layers import Activation\n",
        "\n",
        "from keras.callbacks import ModelCheckpoint\n",
        "import matplotlib.pyplot as plt"
      ]
    },
    {
      "cell_type": "code",
      "execution_count": null,
      "metadata": {
        "id": "LfHoWCCx6Lcp"
      },
      "outputs": [],
      "source": [
        "colon_aca = 'DATASET/TRAIN/colon_aca'\n",
        "colon_bnt = 'DATASET/TRAIN/colon_bnt'\n",
        "lung_aca = 'DATASET/TRAIN/lung_aca'\n",
        "lung_bnt = 'DATASET/TRAIN/lung_bnt'\n",
        "lung_scc = 'DATASET/TRAIN/lung_scc'"
      ]
    },
    {
      "cell_type": "code",
      "execution_count": null,
      "metadata": {
        "id": "gdRgGRSN6Lcp"
      },
      "outputs": [],
      "source": [
        "def plot_images(item_dir, n=6):\n",
        "    all_item_dir = os.listdir(item_dir)\n",
        "    item_files = [os.path.join(item_dir, file) for file in all_item_dir][:n]\n",
        "\n",
        "    plt.figure(figsize=(80, 40))\n",
        "    for idx, img_path in enumerate(item_files):\n",
        "        plt.subplot(3, n, idx+1)\n",
        "        img = plt.imread(img_path)\n",
        "        plt.imshow(img, cmap='gray')\n",
        "        plt.axis('off')\n",
        "\n",
        "    plt.tight_layout()\n",
        "\n",
        "def image_details_print(data,path):\n",
        "    print('======== Images in: ', path)\n",
        "    for key,values in data.items():\n",
        "        print(key,':\\t', values)\n",
        "\n",
        "\n",
        "def images_details(path):\n",
        "    files=[f for f in glob.glob(path + \"**/*.*\", recursive=True)]\n",
        "    data={}\n",
        "    data['Images_count']=len(files)\n",
        "    data['Min_width']=10**100\n",
        "    data['Max_width']=0\n",
        "    data['Min_height']=10**100\n",
        "    data['Max_height']=0\n",
        "\n",
        "    for f in files:\n",
        "        img=Image.open(f)\n",
        "        width,height=img.size\n",
        "        data['Min_width']=min(width,data['Min_width'])\n",
        "        data['Max_width']=max(width, data['Max_width'])\n",
        "        data['Min_height']=min(height, data['Min_height'])\n",
        "        data['Max_height']=max(height, data['Max_height'])\n",
        "\n",
        "    image_details_print(data,path)"
      ]
    },
    {
      "cell_type": "code",
      "execution_count": null,
      "metadata": {
        "id": "EA8-iQ076Lct"
      },
      "outputs": [],
      "source": []
    }
  ],
  "metadata": {
    "kernelspec": {
      "display_name": "Python 3 (ipykernel)",
      "language": "python",
      "name": "python3"
    },
    "language_info": {
      "codemirror_mode": {
        "name": "ipython",
        "version": 3
      },
      "file_extension": ".py",
      "mimetype": "text/x-python",
      "name": "python",
      "nbconvert_exporter": "python",
      "pygments_lexer": "ipython3",
      "version": "3.11.3"
    },
    "colab": {
      "provenance": [],
      "include_colab_link": true
    }
  },
  "nbformat": 4,
  "nbformat_minor": 0
}